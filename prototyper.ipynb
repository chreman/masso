{
 "cells": [
  {
   "cell_type": "code",
   "execution_count": 7,
   "metadata": {
    "collapsed": true
   },
   "outputs": [],
   "source": [
    "import pandas as pd"
   ]
  },
  {
   "cell_type": "code",
   "execution_count": 8,
   "metadata": {
    "collapsed": false
   },
   "outputs": [],
   "source": [
    "df = pd.read_pickle(\"results/test.pkl\")"
   ]
  },
  {
   "cell_type": "code",
   "execution_count": 60,
   "metadata": {
    "collapsed": false
   },
   "outputs": [
    {
     "data": {
      "text/plain": [
       "Index(['availableLanguages', 'category', 'classification', 'fulltext',\n",
       "       'identifier', 'keywords', 'lastUpdateDate', 'links', 'publicationDate',\n",
       "       'referenceDocument', 'relatedProject', 'title', 'typesOfAction',\n",
       "       'links2', 'entities', 'title_mentions', 'identifier_mentions', 'cites',\n",
       "       'targets'],\n",
       "      dtype='object')"
      ]
     },
     "execution_count": 60,
     "metadata": {},
     "output_type": "execute_result"
    }
   ],
   "source": [
    "df.columns"
   ]
  },
  {
   "cell_type": "code",
   "execution_count": 63,
   "metadata": {
    "collapsed": true
   },
   "outputs": [],
   "source": [
    "df['links'] = df['links'].map(lambda x: [l for l in x if \"@\" not in l])"
   ]
  },
  {
   "cell_type": "code",
   "execution_count": 84,
   "metadata": {
    "collapsed": false
   },
   "outputs": [],
   "source": [
    "output = df[['title','links','targets']]"
   ]
  },
  {
   "cell_type": "code",
   "execution_count": 85,
   "metadata": {
    "collapsed": false
   },
   "outputs": [
    {
     "data": {
      "text/html": [
       "<div>\n",
       "<table border=\"1\" class=\"dataframe\">\n",
       "  <thead>\n",
       "    <tr style=\"text-align: right;\">\n",
       "      <th></th>\n",
       "      <th>title</th>\n",
       "      <th>links</th>\n",
       "      <th>targets</th>\n",
       "    </tr>\n",
       "  </thead>\n",
       "  <tbody>\n",
       "    <tr>\n",
       "      <th>0</th>\n",
       "      <td>h2020-infoday-eosc-call-topics_en</td>\n",
       "      <td>[http://observatory.euroris-, net.eu/euroris/,...</td>\n",
       "      <td>[observatory, , , d4science, user-driven e-inf...</td>\n",
       "    </tr>\n",
       "    <tr>\n",
       "      <th>1</th>\n",
       "      <td>Guide to the submission and evaluation process</td>\n",
       "      <td>[http://eur, http://eur]</td>\n",
       "      <td>[eur, eur, classified information, part b]</td>\n",
       "    </tr>\n",
       "    <tr>\n",
       "      <th>2</th>\n",
       "      <td>part H of the General Annexes of the General W...</td>\n",
       "      <td>[]</td>\n",
       "      <td>[]</td>\n",
       "    </tr>\n",
       "    <tr>\n",
       "      <th>3</th>\n",
       "      <td>H2020 Work Programme 2016-17: Research infrast...</td>\n",
       "      <td>[http://s3platform.jrc.ec.europa.eu/eye, http:...</td>\n",
       "      <td>[eye, in_your_country_en, index_en, financial ...</td>\n",
       "    </tr>\n",
       "    <tr>\n",
       "      <th>4</th>\n",
       "      <td>2013_arctic_research_plan</td>\n",
       "      <td>[http://www.whitehouse.gov/ostp/nstc, http://w...</td>\n",
       "      <td>[nstc, ostp, 2009, cgi, www, circ1370, objecti...</td>\n",
       "    </tr>\n",
       "    <tr>\n",
       "      <th>5</th>\n",
       "      <td>EOSC Infoday - European Open Science Cloud for...</td>\n",
       "      <td>[]</td>\n",
       "      <td>[user-driven e-infrastructure innovation]</td>\n",
       "    </tr>\n",
       "    <tr>\n",
       "      <th>6</th>\n",
       "      <td>Financial support to Third Parties</td>\n",
       "      <td>[]</td>\n",
       "      <td>[financial support to third parties]</td>\n",
       "    </tr>\n",
       "    <tr>\n",
       "      <th>7</th>\n",
       "      <td>Annotated Grant Agreement</td>\n",
       "      <td>[http://ec.europa.eu/research/participants/dat...</td>\n",
       "      <td>[unit-, unit-, unit, unit%20costs_clinical_stu...</td>\n",
       "    </tr>\n",
       "    <tr>\n",
       "      <th>8</th>\n",
       "      <td>Legal basis: Horizon 2020 Rules for Participation</td>\n",
       "      <td>[]</td>\n",
       "      <td>[financial support to third parties, classifie...</td>\n",
       "    </tr>\n",
       "    <tr>\n",
       "      <th>9</th>\n",
       "      <td>India</td>\n",
       "      <td>[http://eeas.europa.eu/delegations/india/eu_in...</td>\n",
       "      <td>[index_en, RI@eeas.europa, india]</td>\n",
       "    </tr>\n",
       "    <tr>\n",
       "      <th>10</th>\n",
       "      <td>927</td>\n",
       "      <td>[www.aqua.dtu.dk, http://www.dtu.dk, www.foste...</td>\n",
       "      <td>[www.aqua.dtu, www.dtu, www.fosteropenscience,...</td>\n",
       "    </tr>\n",
       "    <tr>\n",
       "      <th>11</th>\n",
       "      <td>Specific provisions and funding rates</td>\n",
       "      <td>[]</td>\n",
       "      <td>[specific provisions and funding rates]</td>\n",
       "    </tr>\n",
       "    <tr>\n",
       "      <th>12</th>\n",
       "      <td>Legal basis: Horizon 2020 - Regulation of Esta...</td>\n",
       "      <td>[www.ipcc.ch]</td>\n",
       "      <td>[www.ipcc, japan, china, brazil]</td>\n",
       "    </tr>\n",
       "    <tr>\n",
       "      <th>13</th>\n",
       "      <td>Russia</td>\n",
       "      <td>[www.rfbr.ru, www.rfh.ru, www.rscf.ru, www.fas...</td>\n",
       "      <td>[horizon2020@mon.gov, www.rfbr, www.rfh, www.r...</td>\n",
       "    </tr>\n",
       "    <tr>\n",
       "      <th>14</th>\n",
       "      <td>tradoc_151003</td>\n",
       "      <td>[]</td>\n",
       "      <td>[]</td>\n",
       "    </tr>\n",
       "    <tr>\n",
       "      <th>15</th>\n",
       "      <td>national_ocean_policy_implementation_plan</td>\n",
       "      <td>[ocean.data.gov, ocean.data.gov, http://www.cs...</td>\n",
       "      <td>[ocean.data, ocean.data, econreport, , wp, 0ad...</td>\n",
       "    </tr>\n",
       "    <tr>\n",
       "      <th>16</th>\n",
       "      <td>part A of the General Annexes</td>\n",
       "      <td>[http://ec.europa.eu/research/participants/doc...</td>\n",
       "      <td>[h2020-funding, consol, india, republic of korea]</td>\n",
       "    </tr>\n",
       "    <tr>\n",
       "      <th>17</th>\n",
       "      <td>H2020 Work Programme 2016-17: Science with and...</td>\n",
       "      <td>[http://www.sis, http://www.rri, tools.eu, htt...</td>\n",
       "      <td>[www, www, tools, , vision2050, www, tools, ww...</td>\n",
       "    </tr>\n",
       "    <tr>\n",
       "      <th>18</th>\n",
       "      <td>EOSC Infoday - European Open Science Cloud - O...</td>\n",
       "      <td>[]</td>\n",
       "      <td>[]</td>\n",
       "    </tr>\n",
       "    <tr>\n",
       "      <th>19</th>\n",
       "      <td>Specific proposal template</td>\n",
       "      <td>[http://ec.europa.eu/research/participants/por...</td>\n",
       "      <td>[lfv, gendered, financial support to third par...</td>\n",
       "    </tr>\n",
       "    <tr>\n",
       "      <th>20</th>\n",
       "      <td>Infoday Programme</td>\n",
       "      <td>[]</td>\n",
       "      <td>[EXPERTS@ec.europa]</td>\n",
       "    </tr>\n",
       "    <tr>\n",
       "      <th>21</th>\n",
       "      <td>Taiwan</td>\n",
       "      <td>[http://www.ncp.tw/en/, http://ec.europa.eu/re...</td>\n",
       "      <td>[, national_contact_points, , contact@ncp, off...</td>\n",
       "    </tr>\n",
       "    <tr>\n",
       "      <th>22</th>\n",
       "      <td>Mexico</td>\n",
       "      <td>[http://www.conacyt.mx/index.php/el, http://ec...</td>\n",
       "      <td>[el, horizon-2020-brief-, index_en, National C...</td>\n",
       "    </tr>\n",
       "    <tr>\n",
       "      <th>23</th>\n",
       "      <td>C of the General Annexes of the General Work P...</td>\n",
       "      <td>[http://eeas.europa.eu/cfsp/sanctions/consol]</td>\n",
       "      <td>[consol, financial support to third parties]</td>\n",
       "    </tr>\n",
       "    <tr>\n",
       "      <th>24</th>\n",
       "      <td>part A of the General Annexes of the General W...</td>\n",
       "      <td>[http://ec.europa.eu/research/participants/doc...</td>\n",
       "      <td>[h2020-funding]</td>\n",
       "    </tr>\n",
       "    <tr>\n",
       "      <th>25</th>\n",
       "      <td>Specific evaluation form</td>\n",
       "      <td>[]</td>\n",
       "      <td>[]</td>\n",
       "    </tr>\n",
       "    <tr>\n",
       "      <th>26</th>\n",
       "      <td>annex_roadmaps_sep-2014</td>\n",
       "      <td>[http://ec.europa.eu/world/agreements/prepareC...</td>\n",
       "      <td>[treatiesGeneralData, country, csf, tradoc_151...</td>\n",
       "    </tr>\n",
       "    <tr>\n",
       "      <th>27</th>\n",
       "      <td>C of the General Annexes</td>\n",
       "      <td>[http://eeas.europa.eu/cfsp/sanctions/consol]</td>\n",
       "      <td>[consol]</td>\n",
       "    </tr>\n",
       "    <tr>\n",
       "      <th>28</th>\n",
       "      <td>H2020 Work Programme 2016-17: Dissemination, E...</td>\n",
       "      <td>[http://ec.europa.eu/research/participants/dat...</td>\n",
       "      <td>[h2020-mga, h2020-eu, model grant agreement]</td>\n",
       "    </tr>\n",
       "    <tr>\n",
       "      <th>29</th>\n",
       "      <td>Classified information</td>\n",
       "      <td>[http://ec.europa.eu/research/participants/dat...</td>\n",
       "      <td>[h2020-hi, classified information]</td>\n",
       "    </tr>\n",
       "    <tr>\n",
       "      <th>...</th>\n",
       "      <td>...</td>\n",
       "      <td>...</td>\n",
       "      <td>...</td>\n",
       "    </tr>\n",
       "    <tr>\n",
       "      <th>82</th>\n",
       "      <td>GridTalk spreads the word on European grid com...</td>\n",
       "      <td>[]</td>\n",
       "      <td>[]</td>\n",
       "    </tr>\n",
       "    <tr>\n",
       "      <th>83</th>\n",
       "      <td>Make a date with data: the third EUDAT conference</td>\n",
       "      <td>[http://eudat.eu/3rd, http://www.eudat.eu/poster]</td>\n",
       "      <td>[3rd, poster]</td>\n",
       "    </tr>\n",
       "    <tr>\n",
       "      <th>84</th>\n",
       "      <td>PAGES open science meeting, China</td>\n",
       "      <td>[]</td>\n",
       "      <td>[china]</td>\n",
       "    </tr>\n",
       "    <tr>\n",
       "      <th>85</th>\n",
       "      <td>HNSciCloud Pre-Commercial Procurement Open Mar...</td>\n",
       "      <td>[http://www.helix, http://ted.europa.eu/udl?ur...</td>\n",
       "      <td>[www, udl?uri, www, nebula, Home]</td>\n",
       "    </tr>\n",
       "    <tr>\n",
       "      <th>86</th>\n",
       "      <td>Cloudscape Brazil 2015. How business and resea...</td>\n",
       "      <td>[http://lvl.i3m.upv.es, EGI.eu]</td>\n",
       "      <td>[lvl.i3m.upv, EGI, brazil]</td>\n",
       "    </tr>\n",
       "    <tr>\n",
       "      <th>87</th>\n",
       "      <td>NetBiome-CSA International Conference called u...</td>\n",
       "      <td>[www.netbiome.eu]</td>\n",
       "      <td>[www.netbiome, jose.mn.azevedo@azores.gov, pao...</td>\n",
       "    </tr>\n",
       "    <tr>\n",
       "      <th>88</th>\n",
       "      <td>A European map of knowledge production and co-...</td>\n",
       "      <td>[]</td>\n",
       "      <td>[]</td>\n",
       "    </tr>\n",
       "    <tr>\n",
       "      <th>89</th>\n",
       "      <td>Information Retrieval Symposium, Vienna</td>\n",
       "      <td>[http://www.irfs.at]</td>\n",
       "      <td>[www.irfs]</td>\n",
       "    </tr>\n",
       "    <tr>\n",
       "      <th>90</th>\n",
       "      <td>Making the most out of biological observations...</td>\n",
       "      <td>[]</td>\n",
       "      <td>[]</td>\n",
       "    </tr>\n",
       "    <tr>\n",
       "      <th>91</th>\n",
       "      <td>EGEE becomes world largest scientific grid</td>\n",
       "      <td>[]</td>\n",
       "      <td>[japan]</td>\n",
       "    </tr>\n",
       "    <tr>\n",
       "      <th>92</th>\n",
       "      <td>Greenhouse gas emissions still an issue</td>\n",
       "      <td>[]</td>\n",
       "      <td>[]</td>\n",
       "    </tr>\n",
       "    <tr>\n",
       "      <th>93</th>\n",
       "      <td>Worldwide computing grid set to handle data fr...</td>\n",
       "      <td>[]</td>\n",
       "      <td>[taiwan, canada]</td>\n",
       "    </tr>\n",
       "    <tr>\n",
       "      <th>94</th>\n",
       "      <td>Towards the European Open Science Cloud: Main ...</td>\n",
       "      <td>[http://ted.europa.eu/udl?uri, http://ow.ly/YE...</td>\n",
       "      <td>[udl?uri, YEBYA, www, nebula]</td>\n",
       "    </tr>\n",
       "    <tr>\n",
       "      <th>95</th>\n",
       "      <td>Microbiome Research: A Key to Improving Health...</td>\n",
       "      <td>[http://apc.ucc.ie]</td>\n",
       "      <td>[eoh@ucc, declan.kirrane@iscintelligence, apc....</td>\n",
       "    </tr>\n",
       "    <tr>\n",
       "      <th>96</th>\n",
       "      <td>A landmark agreement sustaining the pan Europe...</td>\n",
       "      <td>[http://ec.europa.eu/research/openscience/inde...</td>\n",
       "      <td>[index, damien.lecarpentier@csc, secretariat@p...</td>\n",
       "    </tr>\n",
       "    <tr>\n",
       "      <th>97</th>\n",
       "      <td>“Science, Innovation and Society: achieving Re...</td>\n",
       "      <td>[conference.eu, www.sis, conference.eu]</td>\n",
       "      <td>[conference, www, conference, “science, innova...</td>\n",
       "    </tr>\n",
       "    <tr>\n",
       "      <th>98</th>\n",
       "      <td>1st International Conference on the Marine Mic...</td>\n",
       "      <td>[www.macumbaproject.eu, www.facebook.com/MaCuM...</td>\n",
       "      <td>[www.macumbaproject, info@macumbaproject, MaCu...</td>\n",
       "    </tr>\n",
       "    <tr>\n",
       "      <th>99</th>\n",
       "      <td>Science with and for Society Brokerage Event</td>\n",
       "      <td>[SiS.net, http://www.sisnetwork.eu/]</td>\n",
       "      <td>[SiS, , science with and for society brokerage...</td>\n",
       "    </tr>\n",
       "    <tr>\n",
       "      <th>100</th>\n",
       "      <td>Issue 13 of MaCuMBA Project News Now Available</td>\n",
       "      <td>[www.macumbaproject.eu, www.facebook.com/MaCuM...</td>\n",
       "      <td>[www.macumbaproject, marieke@aquatt, MaCuMBAPr...</td>\n",
       "    </tr>\n",
       "    <tr>\n",
       "      <th>101</th>\n",
       "      <td>RDA Europe supports 20 Europeans to attend the...</td>\n",
       "      <td>[https://rd, https://rd, https://rd, https://r...</td>\n",
       "      <td>[rd, rd, rd, rd, rd, japan]</td>\n",
       "    </tr>\n",
       "    <tr>\n",
       "      <th>102</th>\n",
       "      <td>Open Science Training Workshop</td>\n",
       "      <td>[https://www.fosteropenscience.eu/event/mares]</td>\n",
       "      <td>[mares]</td>\n",
       "    </tr>\n",
       "    <tr>\n",
       "      <th>103</th>\n",
       "      <td>Support to policies and international cooperat...</td>\n",
       "      <td>[]</td>\n",
       "      <td>[]</td>\n",
       "    </tr>\n",
       "    <tr>\n",
       "      <th>104</th>\n",
       "      <td>CHAIN-REDS Conference: 'Open Science at the Gl...</td>\n",
       "      <td>[http://www.chain, project.eu/]</td>\n",
       "      <td>[www, ]</td>\n",
       "    </tr>\n",
       "    <tr>\n",
       "      <th>105</th>\n",
       "      <td>ECsafeSEAFOOD Final Event: Seafood Safety – Ne...</td>\n",
       "      <td>[www.ecsafeseafoodconference.com]</td>\n",
       "      <td>[www.ecsafeseafoodconference, ecsafeseafoodcon...</td>\n",
       "    </tr>\n",
       "    <tr>\n",
       "      <th>106</th>\n",
       "      <td>TOPIC : e-Infrastructure for Open Access</td>\n",
       "      <td>[http://ec.europa.eu/research/participants/dat...</td>\n",
       "      <td>[part A of the General Annexes of the General ...</td>\n",
       "    </tr>\n",
       "    <tr>\n",
       "      <th>107</th>\n",
       "      <td>TOPIC : Innovative approach to release and dis...</td>\n",
       "      <td>[../../../../../doc/call/h2020/garri-4-2015.zi...</td>\n",
       "      <td>[garri-4-2015, National Contact Points (NCP), ...</td>\n",
       "    </tr>\n",
       "    <tr>\n",
       "      <th>108</th>\n",
       "      <td>TOPIC : European Open Science Cloud for Research</td>\n",
       "      <td>[http://ec.europa.eu/research/participants/dat...</td>\n",
       "      <td>[EOSC Infoday - European Open Science Cloud - ...</td>\n",
       "    </tr>\n",
       "    <tr>\n",
       "      <th>109</th>\n",
       "      <td>TOPIC : Training on Open Science in the Europe...</td>\n",
       "      <td>[http://ec.europa.eu/research/participants/por...</td>\n",
       "      <td>[Frequently Asked Questions (FAQs) H2020-SwafS...</td>\n",
       "    </tr>\n",
       "    <tr>\n",
       "      <th>110</th>\n",
       "      <td>TOPIC : Putting Open Science into action</td>\n",
       "      <td>[#r1, http://ec.europa.eu/commission/2014-2019...</td>\n",
       "      <td>[[1], http://ec.europa.eu/commission/2014-2019...</td>\n",
       "    </tr>\n",
       "    <tr>\n",
       "      <th>111</th>\n",
       "      <td>TOPIC : Data and Distributed Computing e-infra...</td>\n",
       "      <td>[http://ec.europa.eu/research/participants/dat...</td>\n",
       "      <td>[Model Grant Agreement, Open access must be gr...</td>\n",
       "    </tr>\n",
       "  </tbody>\n",
       "</table>\n",
       "<p>112 rows × 3 columns</p>\n",
       "</div>"
      ],
      "text/plain": [
       "                                                 title  \\\n",
       "0                    h2020-infoday-eosc-call-topics_en   \n",
       "1       Guide to the submission and evaluation process   \n",
       "2    part H of the General Annexes of the General W...   \n",
       "3    H2020 Work Programme 2016-17: Research infrast...   \n",
       "4                            2013_arctic_research_plan   \n",
       "5    EOSC Infoday - European Open Science Cloud for...   \n",
       "6                   Financial support to Third Parties   \n",
       "7                            Annotated Grant Agreement   \n",
       "8    Legal basis: Horizon 2020 Rules for Participation   \n",
       "9                                                India   \n",
       "10                                                 927   \n",
       "11               Specific provisions and funding rates   \n",
       "12   Legal basis: Horizon 2020 - Regulation of Esta...   \n",
       "13                                              Russia   \n",
       "14                                       tradoc_151003   \n",
       "15           national_ocean_policy_implementation_plan   \n",
       "16                       part A of the General Annexes   \n",
       "17   H2020 Work Programme 2016-17: Science with and...   \n",
       "18   EOSC Infoday - European Open Science Cloud - O...   \n",
       "19                          Specific proposal template   \n",
       "20                                   Infoday Programme   \n",
       "21                                              Taiwan   \n",
       "22                                              Mexico   \n",
       "23   C of the General Annexes of the General Work P...   \n",
       "24   part A of the General Annexes of the General W...   \n",
       "25                            Specific evaluation form   \n",
       "26                             annex_roadmaps_sep-2014   \n",
       "27                            C of the General Annexes   \n",
       "28   H2020 Work Programme 2016-17: Dissemination, E...   \n",
       "29                              Classified information   \n",
       "..                                                 ...   \n",
       "82   GridTalk spreads the word on European grid com...   \n",
       "83   Make a date with data: the third EUDAT conference   \n",
       "84                   PAGES open science meeting, China   \n",
       "85   HNSciCloud Pre-Commercial Procurement Open Mar...   \n",
       "86   Cloudscape Brazil 2015. How business and resea...   \n",
       "87   NetBiome-CSA International Conference called u...   \n",
       "88   A European map of knowledge production and co-...   \n",
       "89             Information Retrieval Symposium, Vienna   \n",
       "90   Making the most out of biological observations...   \n",
       "91          EGEE becomes world largest scientific grid   \n",
       "92             Greenhouse gas emissions still an issue   \n",
       "93   Worldwide computing grid set to handle data fr...   \n",
       "94   Towards the European Open Science Cloud: Main ...   \n",
       "95   Microbiome Research: A Key to Improving Health...   \n",
       "96   A landmark agreement sustaining the pan Europe...   \n",
       "97   “Science, Innovation and Society: achieving Re...   \n",
       "98   1st International Conference on the Marine Mic...   \n",
       "99        Science with and for Society Brokerage Event   \n",
       "100     Issue 13 of MaCuMBA Project News Now Available   \n",
       "101  RDA Europe supports 20 Europeans to attend the...   \n",
       "102                     Open Science Training Workshop   \n",
       "103  Support to policies and international cooperat...   \n",
       "104  CHAIN-REDS Conference: 'Open Science at the Gl...   \n",
       "105  ECsafeSEAFOOD Final Event: Seafood Safety – Ne...   \n",
       "106          TOPIC : e-Infrastructure for Open Access    \n",
       "107  TOPIC : Innovative approach to release and dis...   \n",
       "108  TOPIC : European Open Science Cloud for Research    \n",
       "109  TOPIC : Training on Open Science in the Europe...   \n",
       "110          TOPIC : Putting Open Science into action    \n",
       "111  TOPIC : Data and Distributed Computing e-infra...   \n",
       "\n",
       "                                                 links  \\\n",
       "0    [http://observatory.euroris-, net.eu/euroris/,...   \n",
       "1                             [http://eur, http://eur]   \n",
       "2                                                   []   \n",
       "3    [http://s3platform.jrc.ec.europa.eu/eye, http:...   \n",
       "4    [http://www.whitehouse.gov/ostp/nstc, http://w...   \n",
       "5                                                   []   \n",
       "6                                                   []   \n",
       "7    [http://ec.europa.eu/research/participants/dat...   \n",
       "8                                                   []   \n",
       "9    [http://eeas.europa.eu/delegations/india/eu_in...   \n",
       "10   [www.aqua.dtu.dk, http://www.dtu.dk, www.foste...   \n",
       "11                                                  []   \n",
       "12                                       [www.ipcc.ch]   \n",
       "13   [www.rfbr.ru, www.rfh.ru, www.rscf.ru, www.fas...   \n",
       "14                                                  []   \n",
       "15   [ocean.data.gov, ocean.data.gov, http://www.cs...   \n",
       "16   [http://ec.europa.eu/research/participants/doc...   \n",
       "17   [http://www.sis, http://www.rri, tools.eu, htt...   \n",
       "18                                                  []   \n",
       "19   [http://ec.europa.eu/research/participants/por...   \n",
       "20                                                  []   \n",
       "21   [http://www.ncp.tw/en/, http://ec.europa.eu/re...   \n",
       "22   [http://www.conacyt.mx/index.php/el, http://ec...   \n",
       "23       [http://eeas.europa.eu/cfsp/sanctions/consol]   \n",
       "24   [http://ec.europa.eu/research/participants/doc...   \n",
       "25                                                  []   \n",
       "26   [http://ec.europa.eu/world/agreements/prepareC...   \n",
       "27       [http://eeas.europa.eu/cfsp/sanctions/consol]   \n",
       "28   [http://ec.europa.eu/research/participants/dat...   \n",
       "29   [http://ec.europa.eu/research/participants/dat...   \n",
       "..                                                 ...   \n",
       "82                                                  []   \n",
       "83   [http://eudat.eu/3rd, http://www.eudat.eu/poster]   \n",
       "84                                                  []   \n",
       "85   [http://www.helix, http://ted.europa.eu/udl?ur...   \n",
       "86                     [http://lvl.i3m.upv.es, EGI.eu]   \n",
       "87                                   [www.netbiome.eu]   \n",
       "88                                                  []   \n",
       "89                                [http://www.irfs.at]   \n",
       "90                                                  []   \n",
       "91                                                  []   \n",
       "92                                                  []   \n",
       "93                                                  []   \n",
       "94   [http://ted.europa.eu/udl?uri, http://ow.ly/YE...   \n",
       "95                                 [http://apc.ucc.ie]   \n",
       "96   [http://ec.europa.eu/research/openscience/inde...   \n",
       "97             [conference.eu, www.sis, conference.eu]   \n",
       "98   [www.macumbaproject.eu, www.facebook.com/MaCuM...   \n",
       "99                [SiS.net, http://www.sisnetwork.eu/]   \n",
       "100  [www.macumbaproject.eu, www.facebook.com/MaCuM...   \n",
       "101  [https://rd, https://rd, https://rd, https://r...   \n",
       "102     [https://www.fosteropenscience.eu/event/mares]   \n",
       "103                                                 []   \n",
       "104                    [http://www.chain, project.eu/]   \n",
       "105                  [www.ecsafeseafoodconference.com]   \n",
       "106  [http://ec.europa.eu/research/participants/dat...   \n",
       "107  [../../../../../doc/call/h2020/garri-4-2015.zi...   \n",
       "108  [http://ec.europa.eu/research/participants/dat...   \n",
       "109  [http://ec.europa.eu/research/participants/por...   \n",
       "110  [#r1, http://ec.europa.eu/commission/2014-2019...   \n",
       "111  [http://ec.europa.eu/research/participants/dat...   \n",
       "\n",
       "                                               targets  \n",
       "0    [observatory, , , d4science, user-driven e-inf...  \n",
       "1           [eur, eur, classified information, part b]  \n",
       "2                                                   []  \n",
       "3    [eye, in_your_country_en, index_en, financial ...  \n",
       "4    [nstc, ostp, 2009, cgi, www, circ1370, objecti...  \n",
       "5            [user-driven e-infrastructure innovation]  \n",
       "6                 [financial support to third parties]  \n",
       "7    [unit-, unit-, unit, unit%20costs_clinical_stu...  \n",
       "8    [financial support to third parties, classifie...  \n",
       "9                    [index_en, RI@eeas.europa, india]  \n",
       "10   [www.aqua.dtu, www.dtu, www.fosteropenscience,...  \n",
       "11             [specific provisions and funding rates]  \n",
       "12                    [www.ipcc, japan, china, brazil]  \n",
       "13   [horizon2020@mon.gov, www.rfbr, www.rfh, www.r...  \n",
       "14                                                  []  \n",
       "15   [ocean.data, ocean.data, econreport, , wp, 0ad...  \n",
       "16   [h2020-funding, consol, india, republic of korea]  \n",
       "17   [www, www, tools, , vision2050, www, tools, ww...  \n",
       "18                                                  []  \n",
       "19   [lfv, gendered, financial support to third par...  \n",
       "20                                 [EXPERTS@ec.europa]  \n",
       "21   [, national_contact_points, , contact@ncp, off...  \n",
       "22   [el, horizon-2020-brief-, index_en, National C...  \n",
       "23        [consol, financial support to third parties]  \n",
       "24                                     [h2020-funding]  \n",
       "25                                                  []  \n",
       "26   [treatiesGeneralData, country, csf, tradoc_151...  \n",
       "27                                            [consol]  \n",
       "28        [h2020-mga, h2020-eu, model grant agreement]  \n",
       "29                  [h2020-hi, classified information]  \n",
       "..                                                 ...  \n",
       "82                                                  []  \n",
       "83                                       [3rd, poster]  \n",
       "84                                             [china]  \n",
       "85                   [www, udl?uri, www, nebula, Home]  \n",
       "86                          [lvl.i3m.upv, EGI, brazil]  \n",
       "87   [www.netbiome, jose.mn.azevedo@azores.gov, pao...  \n",
       "88                                                  []  \n",
       "89                                          [www.irfs]  \n",
       "90                                                  []  \n",
       "91                                             [japan]  \n",
       "92                                                  []  \n",
       "93                                    [taiwan, canada]  \n",
       "94                       [udl?uri, YEBYA, www, nebula]  \n",
       "95   [eoh@ucc, declan.kirrane@iscintelligence, apc....  \n",
       "96   [index, damien.lecarpentier@csc, secretariat@p...  \n",
       "97   [conference, www, conference, “science, innova...  \n",
       "98   [www.macumbaproject, info@macumbaproject, MaCu...  \n",
       "99   [SiS, , science with and for society brokerage...  \n",
       "100  [www.macumbaproject, marieke@aquatt, MaCuMBAPr...  \n",
       "101                        [rd, rd, rd, rd, rd, japan]  \n",
       "102                                            [mares]  \n",
       "103                                                 []  \n",
       "104                                            [www, ]  \n",
       "105  [www.ecsafeseafoodconference, ecsafeseafoodcon...  \n",
       "106  [part A of the General Annexes of the General ...  \n",
       "107  [garri-4-2015, National Contact Points (NCP), ...  \n",
       "108  [EOSC Infoday - European Open Science Cloud - ...  \n",
       "109  [Frequently Asked Questions (FAQs) H2020-SwafS...  \n",
       "110  [[1], http://ec.europa.eu/commission/2014-2019...  \n",
       "111  [Model Grant Agreement, Open access must be gr...  \n",
       "\n",
       "[112 rows x 3 columns]"
      ]
     },
     "execution_count": 85,
     "metadata": {},
     "output_type": "execute_result"
    }
   ],
   "source": []
  },
  {
   "cell_type": "code",
   "execution_count": 91,
   "metadata": {
    "collapsed": false,
    "scrolled": true
   },
   "outputs": [],
   "source": [
    "output[['title', 'target_links']].to_csv(\"results/target_links.csv\")"
   ]
  },
  {
   "cell_type": "code",
   "execution_count": 10,
   "metadata": {
    "collapsed": false
   },
   "outputs": [
    {
     "name": "stderr",
     "output_type": "stream",
     "text": [
      "/home/chris/anaconda3/envs/masso/lib/python3.5/site-packages/gensim/utils.py:1015: UserWarning: Pattern library is not installed, lemmatization won't be available.\n",
      "  warnings.warn(\"Pattern library is not installed, lemmatization won't be available.\")\n"
     ]
    }
   ],
   "source": [
    "from gensim import corpora\n",
    "from gensim import corpora, models, similarities\n",
    "from nltk.tokenize import sent_tokenize, word_tokenize\n",
    "from nltk.corpus import stopwords"
   ]
  },
  {
   "cell_type": "code",
   "execution_count": 11,
   "metadata": {
    "collapsed": false
   },
   "outputs": [],
   "source": [
    "stop_en = set(stopwords.words('english'))"
   ]
  },
  {
   "cell_type": "code",
   "execution_count": 37,
   "metadata": {
    "collapsed": false
   },
   "outputs": [],
   "source": [
    "fulltexts = df['fulltext']\n",
    "fulltexts = [\" \".join(ft) for ft in fulltexts]"
   ]
  },
  {
   "cell_type": "code",
   "execution_count": 38,
   "metadata": {
    "collapsed": false
   },
   "outputs": [],
   "source": [
    "fulltexts = [ft.replace('\\n  \\n', '\\n') for ft in fulltexts]\n",
    "fulltexts = [ft.replace('\\n \\n', '\\n') for ft in fulltexts]\n",
    "fulltexts = [ft.replace('\\n\\n', '\\n') for ft in fulltexts]\n",
    "fulltexts = [ft.replace('\\n', ' ') for ft in fulltexts]"
   ]
  },
  {
   "cell_type": "code",
   "execution_count": 41,
   "metadata": {
    "collapsed": false
   },
   "outputs": [],
   "source": [
    "paragraphs = [ft.split('\\x0c') for ft in fulltexts]"
   ]
  },
  {
   "cell_type": "code",
   "execution_count": null,
   "metadata": {
    "collapsed": false
   },
   "outputs": [],
   "source": []
  },
  {
   "cell_type": "code",
   "execution_count": 43,
   "metadata": {
    "collapsed": false
   },
   "outputs": [],
   "source": [
    "texts = [[word for word in document.lower().split() if word not in stop_en] for document in fulltexts]"
   ]
  },
  {
   "cell_type": "code",
   "execution_count": 44,
   "metadata": {
    "collapsed": false,
    "scrolled": true
   },
   "outputs": [],
   "source": [
    "from collections import defaultdict\n",
    "frequency = defaultdict(int)\n",
    "for text in texts:\n",
    "    for token in text:\n",
    "        frequency[token] += 1\n",
    "texts = [[token for token in text if frequency[token] > 1] for text in texts]"
   ]
  },
  {
   "cell_type": "code",
   "execution_count": 45,
   "metadata": {
    "collapsed": false
   },
   "outputs": [],
   "source": [
    "dictionary = corpora.Dictionary(texts)"
   ]
  },
  {
   "cell_type": "code",
   "execution_count": 46,
   "metadata": {
    "collapsed": false
   },
   "outputs": [],
   "source": [
    "corpus = [dictionary.doc2bow(text) for text in texts]"
   ]
  },
  {
   "cell_type": "code",
   "execution_count": 47,
   "metadata": {
    "collapsed": false
   },
   "outputs": [],
   "source": [
    "tfidf = models.TfidfModel(corpus)\n",
    "corpus_tfidf = tfidf[corpus]"
   ]
  },
  {
   "cell_type": "code",
   "execution_count": 48,
   "metadata": {
    "collapsed": false,
    "scrolled": true
   },
   "outputs": [
    {
     "data": {
      "text/plain": [
       "[(0,\n",
       "  [('\\uf0b7', 0.15499163593052784),\n",
       "   ('horizon', 0.12364833665296539),\n",
       "   ('2020', 0.11851644866757204),\n",
       "   ('data', 0.11311679865192817),\n",
       "   ('shall', 0.11100452456603446)]),\n",
       " (1,\n",
       "  [('macumba', -0.58012538714939976),\n",
       "   ('marine', -0.23005170078920023),\n",
       "   ('marieke', -0.12938596582699208),\n",
       "   ('isolation', -0.12279423020290656),\n",
       "   ('industry', -0.12103755681018817)]),\n",
       " (2,\n",
       "  [('\\uf0b7', 0.28937752218354695),\n",
       "   ('data', -0.15216380596805451),\n",
       "   ('macumba', 0.14003043789898384),\n",
       "   ('—', 0.1282053303780995),\n",
       "   ('\\uf02d', 0.1256416930744024)]),\n",
       " (3,\n",
       "  [('entities', -0.16993955726759163),\n",
       "   ('legal', -0.15094699561413419),\n",
       "   ('helpdesk', 0.1496882429072342),\n",
       "   ('shall', -0.1488322078907858),\n",
       "   ('•', 0.14535077112950198)]),\n",
       " (4,\n",
       "  [('eloise', -0.26143303224071851),\n",
       "   ('coastal', -0.26053459962996028),\n",
       "   ('zone', -0.2472875724809766),\n",
       "   ('\\uf0b7', -0.22711624889427548),\n",
       "   ('meeting', -0.18936416118327729)]),\n",
       " (5,\n",
       "  [('e', 0.34419135780974042),\n",
       "   ('n', 0.30087405870060058),\n",
       "   ('o', 0.28222319921151817),\n",
       "   ('\\uf0d8', 0.19837605545136161),\n",
       "   ('c', 0.18901853286626433)]),\n",
       " (6,\n",
       "  [('\\uf0b7', -0.27343579652033823),\n",
       "   ('e', 0.196822926495474),\n",
       "   ('n', 0.18167243807492037),\n",
       "   ('eloise', 0.17487716968432904),\n",
       "   ('o', 0.1709806739163893)]),\n",
       " (7,\n",
       "  [('seafood', -0.32469647517518635),\n",
       "   ('grid', 0.21772263249969706),\n",
       "   ('ecsafeseafood', -0.17399136285902914),\n",
       "   ('data', 0.13301319374770834),\n",
       "   ('safety', -0.1247210648863686)]),\n",
       " (8,\n",
       "  [('seafood', 0.2970180661790387),\n",
       "   ('\\uf0b7', -0.27383084179439554),\n",
       "   ('—', 0.16294518081828993),\n",
       "   ('ecsafeseafood', 0.16059073250197489),\n",
       "   ('\\uf02d', 0.15357563873298663)]),\n",
       " (9,\n",
       "  [('seafood', -0.26412387492456707),\n",
       "   ('islands,', -0.15454905746449427),\n",
       "   ('ecsafeseafood', -0.14488039516461299),\n",
       "   ('\\uf02d', 0.14335451423162524),\n",
       "   ('•', -0.12618623343395385)])]"
      ]
     },
     "execution_count": 48,
     "metadata": {},
     "output_type": "execute_result"
    }
   ],
   "source": [
    "lsi = models.LsiModel(corpus_tfidf, id2word=dictionary, num_topics=10)\n",
    "corpus_lsi = lsi[corpus_tfidf]\n",
    "lsi.show_topics(num_words=5, formatted=False)"
   ]
  },
  {
   "cell_type": "code",
   "execution_count": 269,
   "metadata": {
    "collapsed": false,
    "scrolled": true
   },
   "outputs": [
    {
     "data": {
      "text/plain": [
       "[(0,\n",
       "  [('tdm', 0.00054387045504953354),\n",
       "   ('eloise', 0.00046918628147115494),\n",
       "   ('seafood', 0.00046769456503912405),\n",
       "   ('financial', 0.00036635679424774123),\n",
       "   ('ecsafeseafood', 0.00036251702104758877)]),\n",
       " (1,\n",
       "  [('cloud', 0.00058084221046827305),\n",
       "   ('macumba', 0.00049395620147073098),\n",
       "   ('chinese', 0.00044152066484748006),\n",
       "   ('hnscicloud', 0.00040500835213018904),\n",
       "   ('4.10.2016', 0.00036737981110933387)]),\n",
       " (2,\n",
       "  [('elixir', 0.00053020854993893196),\n",
       "   ('bon', 0.00044771076902634036),\n",
       "   ('zone', 0.00036010182149326169),\n",
       "   ('ghg-europe', 0.00035826384089057402),\n",
       "   ('\\uf02d', 0.00034369501572635347)]),\n",
       " (3,\n",
       "  [('rri', 0.00061282273825992363),\n",
       "   ('macumba', 0.00045764713250801117),\n",
       "   ('microbiome', 0.00040074708401738671),\n",
       "   ('toolkit', 0.00038125011767269312),\n",
       "   ('proposals', 0.00038014064893169923)]),\n",
       " (4,\n",
       "  [('costs', 0.00070883521849320747),\n",
       "   ('\\uf0b7', 0.00053075461552708431),\n",
       "   ('trl', 0.00049187437958808883),\n",
       "   ('\\uf0a7', 0.00045661161064979478),\n",
       "   ('training', 0.00041431206797919103)]),\n",
       " (5,\n",
       "  [('biodiversity', 0.00063979642088541158),\n",
       "   ('\\uf0b7', 0.00060074936770906917),\n",
       "   ('chain-reds', 0.00057061735194905751),\n",
       "   ('e', 0.00039121784791111141),\n",
       "   ('diversitas', 0.00038364520860417647)]),\n",
       " (6,\n",
       "  [('korean', 0.00048720798205243923),\n",
       "   ('seminar', 0.00046445671280636442),\n",
       "   ('personalized', 0.00043402889753724595),\n",
       "   ('shall', 0.00042212480630761449),\n",
       "   ('macumba', 0.00039743087686499456)]),\n",
       " (7,\n",
       "  [('baltic', 0.00051214889173751882),\n",
       "   ('e', 0.00047723509450851452),\n",
       "   ('taiwanese', 0.000465830439108358),\n",
       "   ('taiwan', 0.00037691919124377144),\n",
       "   ('legal', 0.00036036068435451257)]),\n",
       " (8,\n",
       "  [('grid', 0.00060474515837613671),\n",
       "   ('mexican', 0.00056095461904062389),\n",
       "   ('egee', 0.0004873619628793765),\n",
       "   ('grids', 0.00040096362334969467),\n",
       "   ('lhc', 0.00036061426177167534)]),\n",
       " (9,\n",
       "  [('canadian', 0.00050127176624998465),\n",
       "   ('\\uf02d', 0.00046817092081878381),\n",
       "   ('japan', 0.00041148674350668371),\n",
       "   ('japanese', 0.00034270007689471025),\n",
       "   ('co-creation', 0.00032615408087480891)])]"
      ]
     },
     "execution_count": 269,
     "metadata": {},
     "output_type": "execute_result"
    }
   ],
   "source": [
    "lda = models.LdaModel(corpus_tfidf, num_topics=10, id2word=dictionary)\n",
    "corpus_lda = lda[corpus_tfidf]\n",
    "lda.show_topics(num_words=5, formatted=False)"
   ]
  },
  {
   "cell_type": "code",
   "execution_count": 50,
   "metadata": {
    "collapsed": false
   },
   "outputs": [],
   "source": [
    "from itertools import chain"
   ]
  },
  {
   "cell_type": "code",
   "execution_count": 51,
   "metadata": {
    "collapsed": false,
    "scrolled": true
   },
   "outputs": [],
   "source": [
    "sentences = list(chain.from_iterable([sent_tokenize(ft) for ft in fulltexts]))\n",
    "sentences = [word_tokenize(s) for s in sentences]"
   ]
  },
  {
   "cell_type": "code",
   "execution_count": 52,
   "metadata": {
    "collapsed": false
   },
   "outputs": [],
   "source": [
    "bigram_transformer = models.Phrases(sentences, min_count=4)"
   ]
  },
  {
   "cell_type": "code",
   "execution_count": 53,
   "metadata": {
    "collapsed": false
   },
   "outputs": [
    {
     "name": "stderr",
     "output_type": "stream",
     "text": [
      "/home/chris/anaconda3/envs/masso/lib/python3.5/site-packages/gensim/models/phrases.py:248: UserWarning: For a faster implementation, use the gensim.models.phrases.Phraser class\n",
      "  warnings.warn(\"For a faster implementation, use the gensim.models.phrases.Phraser class\")\n"
     ]
    }
   ],
   "source": [
    "w2vModel = models.Word2Vec(bigram_transformer[sentences], size=100, window=5, min_count=3, workers=4, iter=50, sg=1)"
   ]
  },
  {
   "cell_type": "code",
   "execution_count": 59,
   "metadata": {
    "collapsed": false
   },
   "outputs": [
    {
     "data": {
      "text/plain": [
       "[('all_fields', 0.5907211303710938),\n",
       " ('societal_actors', 0.5606890320777893),\n",
       " ('dialogue', 0.5606517195701599),\n",
       " ('data-driven', 0.5515134930610657),\n",
       " ('technology', 0.5489401817321777),\n",
       " ('frontier', 0.5349248647689819),\n",
       " ('thinking', 0.5319522619247437),\n",
       " ('new_talent', 0.5312091708183289),\n",
       " ('employability', 0.5277576446533203),\n",
       " ('nationally', 0.5257960557937622),\n",
       " ('visionary', 0.5249704122543335),\n",
       " ('encouraged', 0.5246412754058838),\n",
       " ('computing_intensive', 0.5239355564117432),\n",
       " ('between_academia', 0.5228273272514343),\n",
       " ('foster', 0.5209313035011292),\n",
       " ('circulate', 0.5207675695419312),\n",
       " ('knowledge', 0.5184003710746765),\n",
       " ('advancement', 0.5181301236152649),\n",
       " ('participatory', 0.5174267292022705),\n",
       " ('labour_market', 0.517035186290741)]"
      ]
     },
     "execution_count": 59,
     "metadata": {},
     "output_type": "execute_result"
    }
   ],
   "source": [
    "w2vModel.most_similar_cosmul(topn=20, positive=['open','science'])"
   ]
  },
  {
   "cell_type": "code",
   "execution_count": 57,
   "metadata": {
    "collapsed": false
   },
   "outputs": [
    {
     "data": {
      "text/plain": [
       "0.85039785054331818"
      ]
     },
     "execution_count": 57,
     "metadata": {},
     "output_type": "execute_result"
    }
   ],
   "source": [
    "w2vModel.n_similarity(['open','science'], ['open','research'])"
   ]
  },
  {
   "cell_type": "code",
   "execution_count": null,
   "metadata": {
    "collapsed": false
   },
   "outputs": [],
   "source": []
  },
  {
   "cell_type": "code",
   "execution_count": null,
   "metadata": {
    "collapsed": true
   },
   "outputs": [],
   "source": []
  }
 ],
 "metadata": {
  "kernelspec": {
   "display_name": "Python 3",
   "language": "python",
   "name": "python3"
  },
  "language_info": {
   "codemirror_mode": {
    "name": "ipython",
    "version": 3
   },
   "file_extension": ".py",
   "mimetype": "text/x-python",
   "name": "python",
   "nbconvert_exporter": "python",
   "pygments_lexer": "ipython3",
   "version": "3.5.2"
  }
 },
 "nbformat": 4,
 "nbformat_minor": 2
}
