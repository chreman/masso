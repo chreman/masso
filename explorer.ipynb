{
 "cells": [
  {
   "cell_type": "code",
   "execution_count": 1,
   "metadata": {
    "collapsed": true
   },
   "outputs": [],
   "source": [
    "import pandas as pd"
   ]
  },
  {
   "cell_type": "code",
   "execution_count": 2,
   "metadata": {
    "collapsed": false
   },
   "outputs": [],
   "source": [
    "df = pd.read_pickle(\"results/test.pkl\")"
   ]
  },
  {
   "cell_type": "code",
   "execution_count": 6,
   "metadata": {
    "collapsed": false
   },
   "outputs": [
    {
     "data": {
      "text/plain": [
       "Index(['availableLanguages', 'category', 'classification', 'fulltext',\n",
       "       'identifier', 'keywords', 'lastUpdateDate', 'links', 'publicationDate',\n",
       "       'referenceDocument', 'relatedProject', 'title', 'typesOfAction',\n",
       "       'links2', 'entities', 'title_mentions', 'identifier_mentions', 'cites',\n",
       "       'targets'],\n",
       "      dtype='object')"
      ]
     },
     "execution_count": 6,
     "metadata": {},
     "output_type": "execute_result"
    }
   ],
   "source": [
    "df.columns"
   ]
  },
  {
   "cell_type": "code",
   "execution_count": null,
   "metadata": {
    "collapsed": false,
    "scrolled": true
   },
   "outputs": [],
   "source": []
  },
  {
   "cell_type": "code",
   "execution_count": 28,
   "metadata": {
    "collapsed": false
   },
   "outputs": [],
   "source": [
    "from gensim import corpora\n",
    "from gensim import corpora, models, similarities\n",
    "from nltk.tokenize import sent_tokenize, word_tokenize\n",
    "import nltk\n",
    "from nltk.corpus import stopwords"
   ]
  },
  {
   "cell_type": "code",
   "execution_count": 8,
   "metadata": {
    "collapsed": false
   },
   "outputs": [],
   "source": [
    "stop_en = set(stopwords.words('english'))"
   ]
  },
  {
   "cell_type": "code",
   "execution_count": 9,
   "metadata": {
    "collapsed": false
   },
   "outputs": [],
   "source": [
    "fulltexts = df['fulltext']\n",
    "fulltexts = [\" \".join(ft) for ft in fulltexts]"
   ]
  },
  {
   "cell_type": "code",
   "execution_count": 10,
   "metadata": {
    "collapsed": false
   },
   "outputs": [],
   "source": [
    "fulltexts = [ft.replace('\\n  \\n', '\\n') for ft in fulltexts]\n",
    "fulltexts = [ft.replace('\\n \\n', '\\n') for ft in fulltexts]\n",
    "fulltexts = [ft.replace('\\n\\n', '\\n') for ft in fulltexts]\n",
    "fulltexts = [ft.replace('\\n', ' ') for ft in fulltexts]"
   ]
  },
  {
   "cell_type": "code",
   "execution_count": 11,
   "metadata": {
    "collapsed": false
   },
   "outputs": [],
   "source": [
    "paragraphs = [ft.split('\\x0c') for ft in fulltexts]"
   ]
  },
  {
   "cell_type": "code",
   "execution_count": null,
   "metadata": {
    "collapsed": false
   },
   "outputs": [],
   "source": []
  },
  {
   "cell_type": "code",
   "execution_count": 29,
   "metadata": {
    "collapsed": false
   },
   "outputs": [],
   "source": [
    "texts = [[word for word in nltk.wordpunct_tokenize(document.lower()) if word not in stop_en] for document in fulltexts]"
   ]
  },
  {
   "cell_type": "code",
   "execution_count": 30,
   "metadata": {
    "collapsed": false,
    "scrolled": true
   },
   "outputs": [],
   "source": [
    "from collections import defaultdict\n",
    "frequency = defaultdict(int)\n",
    "for text in texts:\n",
    "    for token in text:\n",
    "        frequency[token] += 1\n",
    "texts = [[token for token in text if frequency[token] > 1] for text in texts]"
   ]
  },
  {
   "cell_type": "code",
   "execution_count": 31,
   "metadata": {
    "collapsed": false
   },
   "outputs": [],
   "source": [
    "dictionary = corpora.Dictionary(texts)"
   ]
  },
  {
   "cell_type": "code",
   "execution_count": 32,
   "metadata": {
    "collapsed": false
   },
   "outputs": [],
   "source": [
    "corpus = [dictionary.doc2bow(text) for text in texts]"
   ]
  },
  {
   "cell_type": "code",
   "execution_count": 33,
   "metadata": {
    "collapsed": false
   },
   "outputs": [],
   "source": [
    "tfidf = models.TfidfModel(corpus)\n",
    "corpus_tfidf = tfidf[corpus]"
   ]
  },
  {
   "cell_type": "code",
   "execution_count": 34,
   "metadata": {
    "collapsed": false,
    "scrolled": true
   },
   "outputs": [
    {
     "data": {
      "text/plain": [
       "[(0,\n",
       "  [('\\uf0b7', 0.13126052013077624),\n",
       "   ('.', 0.12462082921383286),\n",
       "   (',', 0.11985459460860377),\n",
       "   ('data', 0.10288781968707136),\n",
       "   ('horizon', 0.101464791997896)]),\n",
       " (1,\n",
       "  [('macumba', 0.57531005627455822),\n",
       "   ('marine', 0.22720120006666869),\n",
       "   ('macumbaproject', 0.21782464808876301),\n",
       "   ('marieke', 0.21560031347444009),\n",
       "   ('aquatt', 0.19523377957400459)]),\n",
       " (2,\n",
       "  [('\\uf0b7', 0.2767901706395805),\n",
       "   ('data', -0.1404536446234233),\n",
       "   ('macumba', 0.13263725954596187),\n",
       "   ('cloud', -0.12630168320046375),\n",
       "   ('\\uf02d', 0.12304616448136306)]),\n",
       " (3,\n",
       "  [('eloise', -0.47851637675382519),\n",
       "   ('coastal', -0.28446229618499513),\n",
       "   ('zone', -0.26391570334152964),\n",
       "   ('ocean', -0.19342136096622711),\n",
       "   ('meeting', -0.18020864474950773)]),\n",
       " (4,\n",
       "  [('entities', 0.18625311199676245),\n",
       "   ('eloise', -0.18582244217012667),\n",
       "   ('\\uf0b7', -0.15858054241735231),\n",
       "   ('legal', 0.14506089486734439),\n",
       "   ('proposal', -0.14011102050117205)]),\n",
       " (5,\n",
       "  [('\\uf0b7', -0.36546637225007272),\n",
       "   ('helpdesk', 0.17300781925238981),\n",
       "   ('eloise', 0.12522856724253939),\n",
       "   ('score', -0.11423135510107965),\n",
       "   ('legal', 0.11095493999922387)]),\n",
       " (6,\n",
       "  [('2017', 0.19335903317976791),\n",
       "   ('grid', -0.19114026163413914),\n",
       "   ('2016', 0.16516709294247639),\n",
       "   ('/', 0.13629635030135856),\n",
       "   ('eudat', -0.13493777004615806)]),\n",
       " (7,\n",
       "  [('seafood', -0.31554070211138308),\n",
       "   ('\\uf0b7', 0.24143807895514841),\n",
       "   ('ecsafeseafood', -0.20610541047244807),\n",
       "   ('safety', -0.18470865712719983),\n",
       "   ('o', -0.15346567205576286)]),\n",
       " (8,\n",
       "  [('seafood', 0.29168262854919802),\n",
       "   ('ecsafeseafood', 0.19461554069574438),\n",
       "   ('islands', 0.1554337957150021),\n",
       "   ('costs', -0.15368107638140838),\n",
       "   ('safety', 0.15008429957715563)]),\n",
       " (9,\n",
       "  [('grid', -0.28835961771492247),\n",
       "   ('o', 0.24460533680587257),\n",
       "   ('seafood', -0.24197853477978168),\n",
       "   ('egee', -0.19736886575908658),\n",
       "   ('rri', 0.17670849157228774)])]"
      ]
     },
     "execution_count": 34,
     "metadata": {},
     "output_type": "execute_result"
    }
   ],
   "source": [
    "lsi = models.LsiModel(corpus_tfidf, id2word=dictionary, num_topics=10)\n",
    "corpus_lsi = lsi[corpus_tfidf]\n",
    "lsi.show_topics(num_words=5, formatted=False)"
   ]
  },
  {
   "cell_type": "code",
   "execution_count": 35,
   "metadata": {
    "collapsed": false,
    "scrolled": true
   },
   "outputs": [
    {
     "data": {
      "text/plain": [
       "[(0,\n",
       "  [('costs', 0.00074410119802899982),\n",
       "   ('biodiversity', 0.00070833330782532481),\n",
       "   (',', 0.00067088568734501182),\n",
       "   ('bon', 0.00065888854071757201),\n",
       "   ('hnscicloud', 0.00063187492721236032)]),\n",
       " (1,\n",
       "  [('shall', 0.00062430478057136395),\n",
       "   ('mexican', 0.0006178280744962172),\n",
       "   ('apc', 0.00061547173154362388),\n",
       "   ('reds', 0.00060667308160117402),\n",
       "   ('.', 0.00059962504180023635)]),\n",
       " (2,\n",
       "  [('midas', 0.0007469386147397779),\n",
       "   ('biodiversity', 0.00074245929646590608),\n",
       "   ('seafood', 0.00066255603695516041),\n",
       "   ('ghg', 0.00064843089518524502),\n",
       "   ('data', 0.00061985995771790623)]),\n",
       " (3,\n",
       "  [('macumba', 0.001521794808047128),\n",
       "   ('trl', 0.00078310962911353442),\n",
       "   ('marieke', 0.00077395188212482148),\n",
       "   ('rri', 0.00075676844020191876),\n",
       "   ('taiwan', 0.00075369685607518089)]),\n",
       " (4,\n",
       "  [('\\uf0b7', 0.00092085561240037503),\n",
       "   ('2017', 0.00060529197493808143),\n",
       "   ('infrastructures', 0.00059784954110667044),\n",
       "   ('reds', 0.00053348535295046832),\n",
       "   ('gdpr', 0.0005233419127213787)]),\n",
       " (5,\n",
       "  [('baltic', 0.00068842843038953894),\n",
       "   ('•', 0.00066138766144279966),\n",
       "   ('rda', 0.000576840643469349),\n",
       "   ('seafood', 0.00051749535177409995),\n",
       "   ('ecsafeseafood', 0.00050199107488825209)]),\n",
       " (6,\n",
       "  [('\\uf0d8', 0.00085270485512885371),\n",
       "   ('ocean', 0.00069052682009951305),\n",
       "   ('society', 0.00057745785739490483),\n",
       "   ('coastal', 0.00056650949392623876),\n",
       "   ('eloise', 0.00054579000822981981)]),\n",
       " (7,\n",
       "  [('\\uf0b7', 0.0011031634374908967),\n",
       "   ('eloise', 0.0010194962637799523),\n",
       "   ('\\uf0a7', 0.00070129554926706868),\n",
       "   ('zone', 0.00066149825063540149),\n",
       "   ('lhc', 0.00065503292939946629)]),\n",
       " (8,\n",
       "  [('elixir', 0.0007144777329305905),\n",
       "   ('egee', 0.0006736483148089351),\n",
       "   ('brazil', 0.00053488764786086289),\n",
       "   ('brazilian', 0.0004781985392747937),\n",
       "   ('bioinformatics', 0.00043260294275056406)]),\n",
       " (9,\n",
       "  [('pages', 0.0004843463577658994),\n",
       "   ('meeting', 0.00046519335210632774),\n",
       "   ('past', 0.0004356673659118247),\n",
       "   ('alliance', 0.00039293604121128442),\n",
       "   ('rda', 0.00037308103197595025)])]"
      ]
     },
     "execution_count": 35,
     "metadata": {},
     "output_type": "execute_result"
    }
   ],
   "source": [
    "lda = models.LdaModel(corpus_tfidf, num_topics=10, id2word=dictionary)\n",
    "corpus_lda = lda[corpus_tfidf]\n",
    "lda.show_topics(num_words=5, formatted=False)"
   ]
  },
  {
   "cell_type": "code",
   "execution_count": 19,
   "metadata": {
    "collapsed": false
   },
   "outputs": [],
   "source": [
    "from itertools import chain"
   ]
  },
  {
   "cell_type": "code",
   "execution_count": 20,
   "metadata": {
    "collapsed": false,
    "scrolled": true
   },
   "outputs": [],
   "source": [
    "sentences = list(chain.from_iterable([sent_tokenize(ft) for ft in fulltexts]))\n",
    "sentences = [word_tokenize(s) for s in sentences]"
   ]
  },
  {
   "cell_type": "code",
   "execution_count": 21,
   "metadata": {
    "collapsed": false
   },
   "outputs": [],
   "source": [
    "bigram_transformer = models.Phrases(sentences, min_count=4)"
   ]
  },
  {
   "cell_type": "code",
   "execution_count": 22,
   "metadata": {
    "collapsed": false
   },
   "outputs": [
    {
     "name": "stderr",
     "output_type": "stream",
     "text": [
      "/home/chris/anaconda3/envs/masso/lib/python3.5/site-packages/gensim/models/phrases.py:248: UserWarning: For a faster implementation, use the gensim.models.phrases.Phraser class\n",
      "  warnings.warn(\"For a faster implementation, use the gensim.models.phrases.Phraser class\")\n"
     ]
    }
   ],
   "source": [
    "w2vModel = models.Word2Vec(bigram_transformer[sentences], size=100, window=5, min_count=3, workers=4, iter=50, sg=1)"
   ]
  },
  {
   "cell_type": "code",
   "execution_count": 27,
   "metadata": {
    "collapsed": false
   },
   "outputs": [
    {
     "data": {
      "text/plain": [
       "[('schooling', 0.8006308078765869),\n",
       " ('ideas', 0.7867004871368408),\n",
       " ('EC’s', 0.7857959270477295),\n",
       " ('formal_technology', 0.7840580344200134),\n",
       " ('quadruple', 0.7803259491920471),\n",
       " ('helix', 0.7745307087898254),\n",
       " ('innovation_chain', 0.7730200290679932),\n",
       " ('skill', 0.768718957901001),\n",
       " ('capacity_building', 0.7649006843566895),\n",
       " ('behaviours', 0.7635020017623901),\n",
       " ('Will', 0.7614822387695312),\n",
       " ('Open_Science', 0.7600595355033875),\n",
       " ('MIDAS', 0.7586833834648132),\n",
       " ('reputation', 0.7558361291885376),\n",
       " ('audience', 0.7545291185379028),\n",
       " ('Conference', 0.7540575265884399),\n",
       " ('ELOISE', 0.7533842921257019),\n",
       " ('intentions', 0.7525784969329834),\n",
       " ('RRI', 0.7524858713150024),\n",
       " ('widening', 0.7522560954093933)]"
      ]
     },
     "execution_count": 27,
     "metadata": {},
     "output_type": "execute_result"
    }
   ],
   "source": [
    "w2vModel.most_similar_cosmul(topn=20, positive=['open_science'])"
   ]
  },
  {
   "cell_type": "code",
   "execution_count": 24,
   "metadata": {
    "collapsed": false
   },
   "outputs": [
    {
     "data": {
      "text/plain": [
       "0.8502117656194651"
      ]
     },
     "execution_count": 24,
     "metadata": {},
     "output_type": "execute_result"
    }
   ],
   "source": [
    "w2vModel.n_similarity(['open','science'], ['open','research'])"
   ]
  },
  {
   "cell_type": "code",
   "execution_count": null,
   "metadata": {
    "collapsed": false
   },
   "outputs": [],
   "source": []
  },
  {
   "cell_type": "code",
   "execution_count": null,
   "metadata": {
    "collapsed": true
   },
   "outputs": [],
   "source": []
  }
 ],
 "metadata": {
  "kernelspec": {
   "display_name": "Python 3",
   "language": "python",
   "name": "python3"
  },
  "language_info": {
   "codemirror_mode": {
    "name": "ipython",
    "version": 3
   },
   "file_extension": ".py",
   "mimetype": "text/x-python",
   "name": "python",
   "nbconvert_exporter": "python",
   "pygments_lexer": "ipython3",
   "version": "3.5.2"
  }
 },
 "nbformat": 4,
 "nbformat_minor": 2
}
