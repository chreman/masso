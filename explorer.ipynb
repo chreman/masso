{
 "cells": [
  {
   "cell_type": "code",
   "execution_count": 1,
   "metadata": {
    "collapsed": true
   },
   "outputs": [],
   "source": [
    "import pandas as pd"
   ]
  },
  {
   "cell_type": "code",
   "execution_count": 2,
   "metadata": {
    "collapsed": false
   },
   "outputs": [],
   "source": [
    "df = pd.read_pickle(\"results/test.pkl\")"
   ]
  },
  {
   "cell_type": "code",
   "execution_count": 6,
   "metadata": {
    "collapsed": false
   },
   "outputs": [
    {
     "data": {
      "text/plain": [
       "Index(['availableLanguages', 'category', 'classification', 'fulltext',\n",
       "       'identifier', 'keywords', 'lastUpdateDate', 'links', 'publicationDate',\n",
       "       'referenceDocument', 'relatedProject', 'title', 'typesOfAction',\n",
       "       'links2', 'entities', 'title_mentions', 'identifier_mentions', 'cites',\n",
       "       'targets'],\n",
       "      dtype='object')"
      ]
     },
     "execution_count": 6,
     "metadata": {},
     "output_type": "execute_result"
    }
   ],
   "source": [
    "df.columns"
   ]
  },
  {
   "cell_type": "code",
   "execution_count": null,
   "metadata": {
    "collapsed": true
   },
   "outputs": [],
   "source": []
  },
  {
   "cell_type": "code",
   "execution_count": null,
   "metadata": {
    "collapsed": false
   },
   "outputs": [],
   "source": []
  },
  {
   "cell_type": "code",
   "execution_count": null,
   "metadata": {
    "collapsed": false
   },
   "outputs": [],
   "source": []
  },
  {
   "cell_type": "code",
   "execution_count": null,
   "metadata": {
    "collapsed": false,
    "scrolled": true
   },
   "outputs": [],
   "source": []
  },
  {
   "cell_type": "code",
   "execution_count": 7,
   "metadata": {
    "collapsed": false
   },
   "outputs": [
    {
     "name": "stderr",
     "output_type": "stream",
     "text": [
      "/home/chris/anaconda3/envs/masso/lib/python3.5/site-packages/gensim/utils.py:1015: UserWarning: Pattern library is not installed, lemmatization won't be available.\n",
      "  warnings.warn(\"Pattern library is not installed, lemmatization won't be available.\")\n"
     ]
    }
   ],
   "source": [
    "from gensim import corpora\n",
    "from gensim import corpora, models, similarities\n",
    "from nltk.tokenize import sent_tokenize, word_tokenize\n",
    "from nltk.corpus import stopwords"
   ]
  },
  {
   "cell_type": "code",
   "execution_count": 8,
   "metadata": {
    "collapsed": false
   },
   "outputs": [],
   "source": [
    "stop_en = set(stopwords.words('english'))"
   ]
  },
  {
   "cell_type": "code",
   "execution_count": 9,
   "metadata": {
    "collapsed": false
   },
   "outputs": [],
   "source": [
    "fulltexts = df['fulltext']\n",
    "fulltexts = [\" \".join(ft) for ft in fulltexts]"
   ]
  },
  {
   "cell_type": "code",
   "execution_count": 10,
   "metadata": {
    "collapsed": false
   },
   "outputs": [],
   "source": [
    "fulltexts = [ft.replace('\\n  \\n', '\\n') for ft in fulltexts]\n",
    "fulltexts = [ft.replace('\\n \\n', '\\n') for ft in fulltexts]\n",
    "fulltexts = [ft.replace('\\n\\n', '\\n') for ft in fulltexts]\n",
    "fulltexts = [ft.replace('\\n', ' ') for ft in fulltexts]"
   ]
  },
  {
   "cell_type": "code",
   "execution_count": 11,
   "metadata": {
    "collapsed": false
   },
   "outputs": [],
   "source": [
    "paragraphs = [ft.split('\\x0c') for ft in fulltexts]"
   ]
  },
  {
   "cell_type": "code",
   "execution_count": null,
   "metadata": {
    "collapsed": false
   },
   "outputs": [],
   "source": []
  },
  {
   "cell_type": "code",
   "execution_count": 12,
   "metadata": {
    "collapsed": false
   },
   "outputs": [],
   "source": [
    "texts = [[word for word in word_tokenize(document.lower()) if word not in stop_en] for document in fulltexts]"
   ]
  },
  {
   "cell_type": "code",
   "execution_count": 13,
   "metadata": {
    "collapsed": false,
    "scrolled": true
   },
   "outputs": [],
   "source": [
    "from collections import defaultdict\n",
    "frequency = defaultdict(int)\n",
    "for text in texts:\n",
    "    for token in text:\n",
    "        frequency[token] += 1\n",
    "texts = [[token for token in text if frequency[token] > 1] for text in texts]"
   ]
  },
  {
   "cell_type": "code",
   "execution_count": 14,
   "metadata": {
    "collapsed": false
   },
   "outputs": [],
   "source": [
    "dictionary = corpora.Dictionary(texts)"
   ]
  },
  {
   "cell_type": "code",
   "execution_count": 15,
   "metadata": {
    "collapsed": false
   },
   "outputs": [],
   "source": [
    "corpus = [dictionary.doc2bow(text) for text in texts]"
   ]
  },
  {
   "cell_type": "code",
   "execution_count": 16,
   "metadata": {
    "collapsed": false
   },
   "outputs": [],
   "source": [
    "tfidf = models.TfidfModel(corpus)\n",
    "corpus_tfidf = tfidf[corpus]"
   ]
  },
  {
   "cell_type": "code",
   "execution_count": 17,
   "metadata": {
    "collapsed": false,
    "scrolled": true
   },
   "outputs": [
    {
     "data": {
      "text/plain": [
       "[(0,\n",
       "  [('...', 0.61644413290674382),\n",
       "   ('\\uf0b7', 0.1118639297854481),\n",
       "   (',', 0.10644634615637719),\n",
       "   ('proposal', 0.08886384581831272),\n",
       "   ('.', 0.084396931600508415)]),\n",
       " (1,\n",
       "  [('...', 0.63754850228715443),\n",
       "   ('macumba', -0.29972494164930075),\n",
       "   ('marine', -0.14727756562083127),\n",
       "   ('marieke', -0.12749434319732539),\n",
       "   ('event', -0.1009524753189549)]),\n",
       " (2,\n",
       "  [('macumba', 0.46955655526478579),\n",
       "   ('...', 0.35201241154900437),\n",
       "   ('marieke', 0.20120369240726085),\n",
       "   ('marine', 0.19943491630488466),\n",
       "   ('microorganisms', 0.15304407999654762)]),\n",
       " (3,\n",
       "  [('\\uf0b7', -0.31297363495796787),\n",
       "   ('data', 0.1235511923062431),\n",
       "   ('...', 0.12186676493489078),\n",
       "   ('proposed', -0.11928783969398601),\n",
       "   ('entities', -0.11923009779346731)]),\n",
       " (4,\n",
       "  [('eloise', -0.47243898273921658),\n",
       "   ('zone', -0.30452177837299088),\n",
       "   ('coastal', -0.29887299521916255),\n",
       "   ('land-ocean', -0.23671485438182374),\n",
       "   ('meeting', -0.20208615363433127)]),\n",
       " (5,\n",
       "  [('entities', 0.20098870240594369),\n",
       "   ('legal', 0.14792803819512179),\n",
       "   ('shall', 0.14596458446244553),\n",
       "   ('helpdesk', -0.14524976208776405),\n",
       "   ('•', -0.14316292738160083)]),\n",
       " (6,\n",
       "  [('\\uf0b7', 0.27072756855402397),\n",
       "   ('helpdesk', -0.1663659482387925),\n",
       "   ('e', 0.14465940510997277),\n",
       "   ('o', 0.13749851242587005),\n",
       "   ('•', 0.13553593555209248)]),\n",
       " (7,\n",
       "  [('e', -0.327254145483518),\n",
       "   ('o', -0.31657120655214166),\n",
       "   ('n', -0.30455617734704776),\n",
       "   ('\\uf0b7', 0.21073704183940631),\n",
       "   ('grid', 0.18690627261719764)]),\n",
       " (8,\n",
       "  [('seafood', -0.47658158694386293),\n",
       "   ('ecsafeseafood', -0.28294012833164583),\n",
       "   ('safety', -0.27432339844795656),\n",
       "   ('grid', 0.15455510517086177),\n",
       "   ('contaminants', -0.13646805397261061)]),\n",
       " (9,\n",
       "  [('seafood', 0.25759006455720479),\n",
       "   ('\\uf0b7', -0.2027394583133118),\n",
       "   ('grid', 0.19319305014846816),\n",
       "   ('ecsafeseafood', 0.15631733667359465),\n",
       "   ('safety', 0.13461411048066763)])]"
      ]
     },
     "execution_count": 17,
     "metadata": {},
     "output_type": "execute_result"
    }
   ],
   "source": [
    "lsi = models.LsiModel(corpus_tfidf, id2word=dictionary, num_topics=10)\n",
    "corpus_lsi = lsi[corpus_tfidf]\n",
    "lsi.show_topics(num_words=5, formatted=False)"
   ]
  },
  {
   "cell_type": "code",
   "execution_count": 18,
   "metadata": {
    "collapsed": false,
    "scrolled": true
   },
   "outputs": [
    {
     "data": {
      "text/plain": [
       "[(0,\n",
       "  [('...', 0.0020200847250818571),\n",
       "   (',', 0.00069720796661292494),\n",
       "   ('\\uf0d8', 0.00065580924233177827),\n",
       "   ('mexican', 0.00063446806738865109),\n",
       "   ('seminar', 0.00059304720590154264)]),\n",
       " (1,\n",
       "  [('...', 0.0021320462466845958),\n",
       "   ('costs', 0.00062364488900400628),\n",
       "   ('o', 0.00059464727287741707),\n",
       "   ('taiwanese', 0.00054818783278509902),\n",
       "   ('taiwan', 0.0005189471394285533)]),\n",
       " (2,\n",
       "  [('•', 0.00074635044536136216),\n",
       "   ('elixir', 0.00053997002911585943),\n",
       "   ('egee', 0.00050053526531217119),\n",
       "   ('kong', 0.00048165629284222455),\n",
       "   ('macao', 0.00047236162433439931)]),\n",
       " (3,\n",
       "  [('arctic', 0.00068874651347397477),\n",
       "   ('seafood', 0.00063677973963893427),\n",
       "   ('canadian', 0.00061532521820474042),\n",
       "   ('\\uf02d', 0.0005830944782433202),\n",
       "   ('macumba', 0.00052876559030802994)]),\n",
       " (4,\n",
       "  [('macumba', 0.00082676306566963455),\n",
       "   ('bon', 0.0006168487659643278),\n",
       "   ('chinese', 0.00053918291320204429),\n",
       "   ('...', 0.00051479171433799567),\n",
       "   ('conference', 0.00043971328148868826)]),\n",
       " (5,\n",
       "  [('macumba', 0.00070497885313578021),\n",
       "   ('marine', 0.00062233652572723174),\n",
       "   ('toolkit', 0.00061862128081715834),\n",
       "   ('rri', 0.00059941397904734897),\n",
       "   ('baltic', 0.0005983225453105596)]),\n",
       " (6,\n",
       "  [('...', 0.00070750265759668602),\n",
       "   ('\\uf0a7', 0.00068531018124426998),\n",
       "   ('classified', 0.00051306832307024925),\n",
       "   ('meeting', 0.00047323813579588805),\n",
       "   ('macumba', 0.00043673309554813111)]),\n",
       " (7,\n",
       "  [('eloise', 0.00087200047299741072),\n",
       "   ('biodiversity', 0.00072782127088531746),\n",
       "   ('trl', 0.00069599471461018441),\n",
       "   ('\\uf0b7', 0.00063198823592291748),\n",
       "   ('zone', 0.00058369309415098674)]),\n",
       " (8,\n",
       "  [('\\uf0b7', 0.0010966348213955466),\n",
       "   ('4.10.2016', 0.00046790309849903156),\n",
       "   ('indian', 0.00041452990295094266),\n",
       "   ('mile', 0.00040307862345172055),\n",
       "   ('14.2.2017', 0.00037887718699718262)]),\n",
       " (9,\n",
       "  [('data', 0.00076566980791351817),\n",
       "   ('cloud', 0.00075882643766821145),\n",
       "   ('grid', 0.00063645246008211403),\n",
       "   ('...', 0.00062428591609913116),\n",
       "   (',', 0.00061908112700326582)])]"
      ]
     },
     "execution_count": 18,
     "metadata": {},
     "output_type": "execute_result"
    }
   ],
   "source": [
    "lda = models.LdaModel(corpus_tfidf, num_topics=10, id2word=dictionary)\n",
    "corpus_lda = lda[corpus_tfidf]\n",
    "lda.show_topics(num_words=5, formatted=False)"
   ]
  },
  {
   "cell_type": "code",
   "execution_count": 19,
   "metadata": {
    "collapsed": false
   },
   "outputs": [],
   "source": [
    "from itertools import chain"
   ]
  },
  {
   "cell_type": "code",
   "execution_count": 20,
   "metadata": {
    "collapsed": false,
    "scrolled": true
   },
   "outputs": [],
   "source": [
    "sentences = list(chain.from_iterable([sent_tokenize(ft) for ft in fulltexts]))\n",
    "sentences = [word_tokenize(s) for s in sentences]"
   ]
  },
  {
   "cell_type": "code",
   "execution_count": 21,
   "metadata": {
    "collapsed": false
   },
   "outputs": [],
   "source": [
    "bigram_transformer = models.Phrases(sentences, min_count=4)"
   ]
  },
  {
   "cell_type": "code",
   "execution_count": 22,
   "metadata": {
    "collapsed": false
   },
   "outputs": [
    {
     "name": "stderr",
     "output_type": "stream",
     "text": [
      "/home/chris/anaconda3/envs/masso/lib/python3.5/site-packages/gensim/models/phrases.py:248: UserWarning: For a faster implementation, use the gensim.models.phrases.Phraser class\n",
      "  warnings.warn(\"For a faster implementation, use the gensim.models.phrases.Phraser class\")\n"
     ]
    }
   ],
   "source": [
    "w2vModel = models.Word2Vec(bigram_transformer[sentences], size=100, window=5, min_count=3, workers=4, iter=50, sg=1)"
   ]
  },
  {
   "cell_type": "code",
   "execution_count": 27,
   "metadata": {
    "collapsed": false
   },
   "outputs": [
    {
     "data": {
      "text/plain": [
       "[('schooling', 0.8006308078765869),\n",
       " ('ideas', 0.7867004871368408),\n",
       " ('EC’s', 0.7857959270477295),\n",
       " ('formal_technology', 0.7840580344200134),\n",
       " ('quadruple', 0.7803259491920471),\n",
       " ('helix', 0.7745307087898254),\n",
       " ('innovation_chain', 0.7730200290679932),\n",
       " ('skill', 0.768718957901001),\n",
       " ('capacity_building', 0.7649006843566895),\n",
       " ('behaviours', 0.7635020017623901),\n",
       " ('Will', 0.7614822387695312),\n",
       " ('Open_Science', 0.7600595355033875),\n",
       " ('MIDAS', 0.7586833834648132),\n",
       " ('reputation', 0.7558361291885376),\n",
       " ('audience', 0.7545291185379028),\n",
       " ('Conference', 0.7540575265884399),\n",
       " ('ELOISE', 0.7533842921257019),\n",
       " ('intentions', 0.7525784969329834),\n",
       " ('RRI', 0.7524858713150024),\n",
       " ('widening', 0.7522560954093933)]"
      ]
     },
     "execution_count": 27,
     "metadata": {},
     "output_type": "execute_result"
    }
   ],
   "source": [
    "w2vModel.most_similar_cosmul(topn=20, positive=['open_science'])"
   ]
  },
  {
   "cell_type": "code",
   "execution_count": 24,
   "metadata": {
    "collapsed": false
   },
   "outputs": [
    {
     "data": {
      "text/plain": [
       "0.8502117656194651"
      ]
     },
     "execution_count": 24,
     "metadata": {},
     "output_type": "execute_result"
    }
   ],
   "source": [
    "w2vModel.n_similarity(['open','science'], ['open','research'])"
   ]
  },
  {
   "cell_type": "code",
   "execution_count": null,
   "metadata": {
    "collapsed": false
   },
   "outputs": [],
   "source": []
  },
  {
   "cell_type": "code",
   "execution_count": null,
   "metadata": {
    "collapsed": true
   },
   "outputs": [],
   "source": []
  }
 ],
 "metadata": {
  "kernelspec": {
   "display_name": "Python 3",
   "language": "python",
   "name": "python3"
  },
  "language_info": {
   "codemirror_mode": {
    "name": "ipython",
    "version": 3
   },
   "file_extension": ".py",
   "mimetype": "text/x-python",
   "name": "python",
   "nbconvert_exporter": "python",
   "pygments_lexer": "ipython3",
   "version": "3.5.2"
  }
 },
 "nbformat": 4,
 "nbformat_minor": 2
}
